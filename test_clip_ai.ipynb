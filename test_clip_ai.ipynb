{
 "cells": [
  {
   "cell_type": "code",
   "execution_count": 8,
   "metadata": {},
   "outputs": [],
   "source": [
    "import clipsai\n",
    "import whisperx\n",
    "import ffmpeg\n",
    "from pytube import YouTube\n",
    "import tqdm\n",
    "import yt_dlp"
   ]
  },
  {
   "cell_type": "markdown",
   "metadata": {},
   "source": [
    "Download youtube video from link."
   ]
  },
  {
   "cell_type": "code",
   "execution_count": null,
   "metadata": {},
   "outputs": [
    {
     "name": "stdout",
     "output_type": "stream",
     "text": [
      "[youtube] Extracting URL: https://www.youtube.com/watch?v=m7Hrq8WL1-g\n",
      "[youtube] m7Hrq8WL1-g: Downloading webpage\n",
      "[youtube] m7Hrq8WL1-g: Downloading tv player API JSON\n",
      "[youtube] m7Hrq8WL1-g: Downloading ios player API JSON\n",
      "[youtube] m7Hrq8WL1-g: Downloading player 37364e28\n",
      "[youtube] m7Hrq8WL1-g: Downloading m3u8 information\n",
      "[info] Testing format 616\n",
      "[info] m7Hrq8WL1-g: Downloading 1 format(s): 616+251\n",
      "[hlsnative] Downloading m3u8 manifest\n",
      "[hlsnative] Total fragments: 2034\n",
      "[download] Destination: yt_dl//Joe Rogan Experience #2261 - Warren Smith.f616.mp4\n",
      "[download]  16.6% of ~   3.79GiB at  641.03KiB/s ETA 01:19:08 (frag 336/2034)"
     ]
    }
   ],
   "source": [
    "yt_url = 'https://www.youtube.com/watch?v=m7Hrq8WL1-g'\n",
    "\n",
    "output_dir = 'yt_dl/'\n",
    "\n",
    "ydl_opts = {\n",
    "    'outtmpl': f'{output_dir}/%(title)s.%(ext)s',  # Save as video title\n",
    "    'format': 'bestvideo+bestaudio/best',          # Best quality available\n",
    "}\n",
    "\n",
    "with yt_dlp.YoutubeDL(ydl_opts) as ydl:\n",
    "    ydl.download([yt_url])"
   ]
  }
 ],
 "metadata": {
  "kernelspec": {
   "display_name": "venv",
   "language": "python",
   "name": "python3"
  },
  "language_info": {
   "codemirror_mode": {
    "name": "ipython",
    "version": 3
   },
   "file_extension": ".py",
   "mimetype": "text/x-python",
   "name": "python",
   "nbconvert_exporter": "python",
   "pygments_lexer": "ipython3",
   "version": "3.11.5"
  }
 },
 "nbformat": 4,
 "nbformat_minor": 2
}
